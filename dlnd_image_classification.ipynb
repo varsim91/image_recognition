{
 "cells": [
  {
   "cell_type": "markdown",
   "metadata": {
    "collapsed": true
   },
   "source": [
    "# Image Classification\n",
    "In this project, you'll classify images from the [CIFAR-10 dataset](https://www.cs.toronto.edu/~kriz/cifar.html).  The dataset consists of airplanes, dogs, cats, and other objects. You'll preprocess the images, then train a convolutional neural network on all the samples. The images need to be normalized and the labels need to be one-hot encoded.  You'll get to apply what you learned and build a convolutional, max pooling, dropout, and fully connected layers.  At the end, you'll get to see your neural network's predictions on the sample images.\n",
    "## Get the Data\n",
    "Run the following cell to download the [CIFAR-10 dataset for python](https://www.cs.toronto.edu/~kriz/cifar-10-python.tar.gz)."
   ]
  },
  {
   "cell_type": "code",
   "execution_count": 1,
   "metadata": {},
   "outputs": [
    {
     "name": "stderr",
     "output_type": "stream",
     "text": [
      "c:\\program files\\python36\\lib\\site-packages\\h5py\\__init__.py:36: FutureWarning: Conversion of the second argument of issubdtype from `float` to `np.floating` is deprecated. In future, it will be treated as `np.float64 == np.dtype(float).type`.\n",
      "  from ._conv import register_converters as _register_converters\n"
     ]
    },
    {
     "name": "stdout",
     "output_type": "stream",
     "text": [
      "All files found!\n"
     ]
    }
   ],
   "source": [
    "\"\"\"\n",
    "DON'T MODIFY ANYTHING IN THIS CELL THAT IS BELOW THIS LINE\n",
    "\"\"\"\n",
    "from urllib.request import urlretrieve\n",
    "from os.path import isfile, isdir\n",
    "from tqdm import tqdm\n",
    "import problem_unittests as tests\n",
    "import tarfile\n",
    "\n",
    "cifar10_dataset_folder_path = 'cifar-10-batches-py'\n",
    "\n",
    "class DLProgress(tqdm):\n",
    "    last_block = 0\n",
    "\n",
    "    def hook(self, block_num=1, block_size=1, total_size=None):\n",
    "        self.total = total_size\n",
    "        self.update((block_num - self.last_block) * block_size)\n",
    "        self.last_block = block_num\n",
    "\n",
    "if not isfile('cifar-10-python.tar.gz'):\n",
    "    with DLProgress(unit='B', unit_scale=True, miniters=1, desc='CIFAR-10 Dataset') as pbar:\n",
    "        urlretrieve(\n",
    "            'https://www.cs.toronto.edu/~kriz/cifar-10-python.tar.gz',\n",
    "            'cifar-10-python.tar.gz',\n",
    "            pbar.hook)\n",
    "\n",
    "if not isdir(cifar10_dataset_folder_path):\n",
    "    with tarfile.open('cifar-10-python.tar.gz') as tar:\n",
    "        tar.extractall()\n",
    "        tar.close()\n",
    "\n",
    "\n",
    "tests.test_folder_path(cifar10_dataset_folder_path)"
   ]
  },
  {
   "cell_type": "markdown",
   "metadata": {},
   "source": [
    "## Explore the Data\n",
    "The dataset is broken into batches to prevent your machine from running out of memory.  The CIFAR-10 dataset consists of 5 batches, named `data_batch_1`, `data_batch_2`, etc.. Each batch contains the labels and images that are one of the following:\n",
    "* airplane\n",
    "* automobile\n",
    "* bird\n",
    "* cat\n",
    "* deer\n",
    "* dog\n",
    "* frog\n",
    "* horse\n",
    "* ship\n",
    "* truck\n",
    "\n",
    "Understanding a dataset is part of making predictions on the data.  Play around with the code cell below by changing the `batch_id` and `sample_id`. The `batch_id` is the id for a batch (1-5). The `sample_id` is the id for a image and label pair in the batch.\n",
    "\n",
    "Ask yourself \"What are all possible labels?\", \"What is the range of values for the image data?\", \"Are the labels in order or random?\".  Answers to questions like these will help you preprocess the data and end up with better predictions."
   ]
  },
  {
   "cell_type": "code",
   "execution_count": 2,
   "metadata": {},
   "outputs": [
    {
     "name": "stdout",
     "output_type": "stream",
     "text": [
      "\n",
      "Stats of batch 2:\n",
      "Samples: 10000\n",
      "Label Counts: {0: 984, 1: 1007, 2: 1010, 3: 995, 4: 1010, 5: 988, 6: 1008, 7: 1026, 8: 987, 9: 985}\n",
      "First 20 Labels: [1, 6, 6, 8, 8, 3, 4, 6, 0, 6, 0, 3, 6, 6, 5, 4, 8, 3, 2, 6]\n",
      "\n",
      "Example of Image 55:\n",
      "Image - Min Value: 0 Max Value: 241\n",
      "Image - Shape: (32, 32, 3)\n",
      "Label - Label Id: 4 Name: deer\n"
     ]
    },
    {
     "data": {
      "image/png": "[encoded data removed]",
      "text/plain": [
       "<matplotlib.figure.Figure at 0x1b9f06fcb70>"
      ]
     },
     "metadata": {
      "image/png": {
       "height": 250,
       "width": 253
      }
     },
     "output_type": "display_data"
    }
   ],
   "source": [
    "%matplotlib inline\n",
    "%config InlineBackend.figure_format = 'retina'\n",
    "\n",
    "import helper\n",
    "import numpy as np\n",
    "\n",
    "# Explore the dataset\n",
    "batch_id = 2\n",
    "sample_id = 55\n",
    "helper.display_stats(cifar10_dataset_folder_path, batch_id, sample_id)"
   ]
  },
  {
   "cell_type": "markdown",
   "metadata": {},
   "source": [
    "## Implement Preprocess Functions\n",
    "### Normalize\n",
    "In the cell below, implement the `normalize` function to take in image data, `x`, and return it as a normalized Numpy array. The values should be in the range of 0 to 1, inclusive.  The return object should be the same shape as `x`."
   ]
  },
  {
   "cell_type": "code",
   "execution_count": 3,
   "metadata": {},
   "outputs": [
    {
     "name": "stdout",
     "output_type": "stream",
     "text": [
      "Tests Passed\n"
     ]
    }
   ],
   "source": [
    "def normalize(x):\n",
    "    \"\"\"\n",
    "    Normalize a list of sample image data in the range of 0 to 1\n",
    "    : x: List of image data.  The image shape is (32, 32, 3)\n",
    "    : return: Numpy array of normalize data\n",
    "    \"\"\"\n",
    "    # TODO: Implement Function\n",
    "    norm_x = x / 255.\n",
    "    return norm_x\n",
    "\n",
    "\n",
    "\"\"\"\n",
    "DON'T MODIFY ANYTHING IN THIS CELL THAT IS BELOW THIS LINE\n",
    "\"\"\"\n",
    "tests.test_normalize(normalize)"
   ]
  },
  {
   "cell_type": "markdown",
   "metadata": {},
   "source": [
    "### One-hot encode\n",
    "Just like the previous code cell, you'll be implementing a function for preprocessing.  This time, you'll implement the `one_hot_encode` function. The input, `x`, are a list of labels.  Implement the function to return the list of labels as One-Hot encoded Numpy array.  The possible values for labels are 0 to 9. The one-hot encoding function should return the same encoding for each value between each call to `one_hot_encode`.  Make sure to save the map of encodings outside the function.\n",
    "\n",
    "**Hint:**\n",
    "\n",
    "Look into LabelBinarizer in the preprocessing module of sklearn."
   ]
  },
  {
   "cell_type": "code",
   "execution_count": 4,
   "metadata": {},
   "outputs": [
    {
     "name": "stdout",
     "output_type": "stream",
     "text": [
      "Tests Passed\n"
     ]
    }
   ],
   "source": [
    "from sklearn import preprocessing\n",
    "lb = None\n",
    "def one_hot_encode(x):\n",
    "    \"\"\"\n",
    "    One hot encode a list of sample labels. Return a one-hot encoded vector for each label.\n",
    "    : x: List of sample Labels\n",
    "    : return: Numpy array of one-hot encoded labels\n",
    "    \"\"\"\n",
    "    # TODO: Implement Function\n",
    "    global lb\n",
    "    if lb is None:\n",
    "        lb = preprocessing.LabelBinarizer()\n",
    "        lb.fit(x)\n",
    "    return lb.transform(x)\n",
    "\n",
    "\n",
    "\"\"\"\n",
    "DON'T MODIFY ANYTHING IN THIS CELL THAT IS BELOW THIS LINE\n",
    "\"\"\"\n",
    "tests.test_one_hot_encode(one_hot_encode)"
   ]
  },
  {
   "cell_type": "markdown",
   "metadata": {},
   "source": [
    "### Randomize Data\n",
    "As you saw from exploring the data above, the order of the samples are randomized.  It doesn't hurt to randomize it again, but you don't need to for this dataset."
   ]
  },
  {
   "cell_type": "markdown",
   "metadata": {},
   "source": [
    "## Preprocess all the data and save it\n",
    "Running the code cell below will preprocess all the CIFAR-10 data and save it to file. The code below also uses 10% of the training data for validation."
   ]
  },
  {
   "cell_type": "code",
   "execution_count": 5,
   "metadata": {},
   "outputs": [],
   "source": [
    "\"\"\"\n",
    "DON'T MODIFY ANYTHING IN THIS CELL\n",
    "\"\"\"\n",
    "# Preprocess Training, Validation, and Testing Data\n",
    "helper.preprocess_and_save_data(cifar10_dataset_folder_path, normalize, one_hot_encode)"
   ]
  },
  {
   "cell_type": "markdown",
   "metadata": {},
   "source": [
    "# Check Point\n",
    "This is your first checkpoint.  If you ever decide to come back to this notebook or have to restart the notebook, you can start from here.  The preprocessed data has been saved to disk."
   ]
  },
  {
   "cell_type": "code",
   "execution_count": 6,
   "metadata": {},
   "outputs": [],
   "source": [
    "\"\"\"\n",
    "DON'T MODIFY ANYTHING IN THIS CELL\n",
    "\"\"\"\n",
    "import pickle\n",
    "import problem_unittests as tests\n",
    "import helper\n",
    "\n",
    "# Load the Preprocessed Validation data\n",
    "valid_features, valid_labels = pickle.load(open('preprocess_validation.p', mode='rb'))"
   ]
  },
  {
   "cell_type": "markdown",
   "metadata": {},
   "source": [
    "## Build the network\n",
    "For the neural network, you'll build each layer into a function.  Most of the code you've seen has been outside of functions. To test your code more thoroughly, we require that you put each layer in a function.  This allows us to give you better feedback and test for simple mistakes using our unittests before you submit your project.\n",
    "\n",
    ">**Note:** If you're finding it hard to dedicate enough time for this course each week, we've provided a small shortcut to this part of the project. In the next couple of problems, you'll have the option to use classes from the [TensorFlow Layers](https://www.tensorflow.org/api_docs/python/tf/layers) or [TensorFlow Layers (contrib)](https://www.tensorflow.org/api_guides/python/contrib.layers) packages to build each layer, except the layers you build in the \"Convolutional and Max Pooling Layer\" section.  TF Layers is similar to Keras's and TFLearn's abstraction to layers, so it's easy to pickup.\n",
    "\n",
    ">However, if you would like to get the most out of this course, try to solve all the problems _without_ using anything from the TF Layers packages. You **can** still use classes from other packages that happen to have the same name as ones you find in TF Layers! For example, instead of using the TF Layers version of the `conv2d` class, [tf.layers.conv2d](https://www.tensorflow.org/api_docs/python/tf/layers/conv2d), you would want to use the TF Neural Network version of `conv2d`, [tf.nn.conv2d](https://www.tensorflow.org/api_docs/python/tf/nn/conv2d). \n",
    "\n",
    "Let's begin!\n",
    "\n",
    "### Input\n",
    "The neural network needs to read the image data, one-hot encoded labels, and dropout keep probability. Implement the following functions\n",
    "* Implement `neural_net_image_input`\n",
    " * Return a [TF Placeholder](https://www.tensorflow.org/api_docs/python/tf/placeholder)\n",
    " * Set the shape using `image_shape` with batch size set to `None`.\n",
    " * Name the TensorFlow placeholder \"x\" using the TensorFlow `name` parameter in the [TF Placeholder](https://www.tensorflow.org/api_docs/python/tf/placeholder).\n",
    "* Implement `neural_net_label_input`\n",
    " * Return a [TF Placeholder](https://www.tensorflow.org/api_docs/python/tf/placeholder)\n",
    " * Set the shape using `n_classes` with batch size set to `None`.\n",
    " * Name the TensorFlow placeholder \"y\" using the TensorFlow `name` parameter in the [TF Placeholder](https://www.tensorflow.org/api_docs/python/tf/placeholder).\n",
    "* Implement `neural_net_keep_prob_input`\n",
    " * Return a [TF Placeholder](https://www.tensorflow.org/api_docs/python/tf/placeholder) for dropout keep probability.\n",
    " * Name the TensorFlow placeholder \"keep_prob\" using the TensorFlow `name` parameter in the [TF Placeholder](https://www.tensorflow.org/api_docs/python/tf/placeholder).\n",
    "\n",
    "These names will be used at the end of the project to load your saved model.\n",
    "\n",
    "Note: `None` for shapes in TensorFlow allow for a dynamic size."
   ]
  },
  {
   "cell_type": "code",
   "execution_count": 7,
   "metadata": {},
   "outputs": [
    {
     "name": "stdout",
     "output_type": "stream",
     "text": [
      "Image Input Tests Passed.\n",
      "Label Input Tests Passed.\n",
      "Keep Prob Tests Passed.\n"
     ]
    }
   ],
   "source": [
    "import tensorflow as tf\n",
    "import numpy as np\n",
    "\n",
    "def neural_net_image_input(image_shape):\n",
    "    \"\"\"\n",
    "    Return a Tensor for a batch of image input\n",
    "    : image_shape: Shape of the images\n",
    "    : return: Tensor for image input.\n",
    "    \"\"\"\n",
    "    in_tensor = tf.placeholder(tf.float32, shape=[None] + list(image_shape), name=\"x\")\n",
    "    return in_tensor\n",
    "\n",
    "\n",
    "def neural_net_label_input(n_classes):\n",
    "    \"\"\"\n",
    "    Return a Tensor for a batch of label input\n",
    "    : n_classes: Number of classes\n",
    "    : return: Tensor for label input.\n",
    "    \"\"\"\n",
    "    # TODO: Implement Function\n",
    "    out_tensor = tf.placeholder(tf.float32, shape=[None, n_classes], name=\"y\")\n",
    "    return out_tensor\n",
    "\n",
    "\n",
    "def neural_net_keep_prob_input():\n",
    "    \"\"\"\n",
    "    Return a Tensor for keep probability\n",
    "    : return: Tensor for keep probability.\n",
    "    \"\"\"\n",
    "    # TODO: Implement Function\n",
    "    keep_prob_tensor = tf.placeholder(tf.float32, name=\"keep_prob\")\n",
    "    return keep_prob_tensor\n",
    "\n",
    "\n",
    "\"\"\"\n",
    "DON'T MODIFY ANYTHING IN THIS CELL THAT IS BELOW THIS LINE\n",
    "\"\"\"\n",
    "tf.reset_default_graph()\n",
    "tests.test_nn_image_inputs(neural_net_image_input)\n",
    "tests.test_nn_label_inputs(neural_net_label_input)\n",
    "tests.test_nn_keep_prob_inputs(neural_net_keep_prob_input)"
   ]
  },
  {
   "cell_type": "markdown",
   "metadata": {},
   "source": [
    "### Convolution and Max Pooling Layer\n",
    "Convolution layers have a lot of success with images. For this code cell, you should implement the function `conv2d_maxpool` to apply convolution then max pooling:\n",
    "* Create the weight and bias using `conv_ksize`, `conv_num_outputs` and the shape of `x_tensor`.\n",
    "* Apply a convolution to `x_tensor` using weight and `conv_strides`.\n",
    " * We recommend you use same padding, but you're welcome to use any padding.\n",
    "* Add bias\n",
    "* Add a nonlinear activation to the convolution.\n",
    "* Apply Max Pooling using `pool_ksize` and `pool_strides`.\n",
    " * We recommend you use same padding, but you're welcome to use any padding.\n",
    "\n",
    "**Note:** You **can't** use [TensorFlow Layers](https://www.tensorflow.org/api_docs/python/tf/layers) or [TensorFlow Layers (contrib)](https://www.tensorflow.org/api_guides/python/contrib.layers) for **this** layer, but you can still use TensorFlow's [Neural Network](https://www.tensorflow.org/api_docs/python/tf/nn) package. You may still use the shortcut option for all the **other** layers.\n",
    "\n",
    "** Hint: **\n",
    "\n",
    "When unpacking values as an argument in Python, look into the [unpacking](https://docs.python.org/3/tutorial/controlflow.html#unpacking-argument-lists) operator. "
   ]
  },
  {
   "cell_type": "code",
   "execution_count": 8,
   "metadata": {},
   "outputs": [
    {
     "name": "stdout",
     "output_type": "stream",
     "text": [
      "Tests Passed\n"
     ]
    }
   ],
   "source": [
    "def conv2d_maxpool(x_tensor, conv_num_outputs, conv_ksize, conv_strides, pool_ksize, pool_strides):\n",
    "    \"\"\"\n",
    "    Apply convolution then max pooling to x_tensor\n",
    "    :param x_tensor: TensorFlow Tensor\n",
    "    :param conv_num_outputs: Number of outputs for the convolutional layer\n",
    "    :param conv_ksize: kernal size 2-D Tuple for the convolutional layer\n",
    "    :param conv_strides: Stride 2-D Tuple for convolution\n",
    "    :param pool_ksize: kernal size 2-D Tuple for pool\n",
    "    :param pool_strides: Stride 2-D Tuple for pool\n",
    "    : return: A tensor that represents convolution and max pooling of x_tensor\n",
    "    \"\"\"\n",
    "    # TODO: Implement Function\n",
    "    num_of_in_channels = x_tensor.get_shape().as_list()[-1]\n",
    "    weights = tf.Variable(tf.random_normal(shape=[conv_ksize[0], conv_ksize[1], \n",
    "                                                  num_of_in_channels, conv_num_outputs]))\n",
    "    weights *= np.sqrt(2/(conv_ksize[0] * conv_ksize[1] *num_of_in_channels))  # Xavier initialization \n",
    "#     biases = tf.Variable(tf.random_normal(shape=[conv_num_outputs]))\n",
    "    biases = tf.Variable(tf.zeros(shape=conv_num_outputs))\n",
    "    conv_strides = [1] + list(conv_strides) + [1]\n",
    "    conv2d_layer = tf.nn.conv2d(x_tensor, filter=weights, strides=conv_strides, padding=\"SAME\")\n",
    "    conv2d_layer = tf.add(conv2d_layer, biases)\n",
    "    conv2d_layer = tf.nn.relu(conv2d_layer)\n",
    "    \n",
    "    max_pool_size = [1] + list(pool_ksize) + [1]\n",
    "    max_pool_strides = [1] + list(pool_strides) + [1]\n",
    "    max_pool_layer = tf.nn.max_pool(conv2d_layer, ksize=max_pool_size, strides=max_pool_strides, padding=\"SAME\")\n",
    "    return max_pool_layer \n",
    "\n",
    "\n",
    "\"\"\"\n",
    "DON'T MODIFY ANYTHING IN THIS CELL THAT IS BELOW THIS LINE\n",
    "\"\"\"\n",
    "tests.test_con_pool(conv2d_maxpool)"
   ]
  },
  {
   "cell_type": "markdown",
   "metadata": {},
   "source": [
    "### Flatten Layer\n",
    "Implement the `flatten` function to change the dimension of `x_tensor` from a 4-D tensor to a 2-D tensor.  The output should be the shape (*Batch Size*, *Flattened Image Size*). Shortcut option: you can use classes from the [TensorFlow Layers](https://www.tensorflow.org/api_docs/python/tf/layers) or [TensorFlow Layers (contrib)](https://www.tensorflow.org/api_guides/python/contrib.layers) packages for this layer. For more of a challenge, only use other TensorFlow packages."
   ]
  },
  {
   "cell_type": "code",
   "execution_count": 9,
   "metadata": {},
   "outputs": [
    {
     "name": "stdout",
     "output_type": "stream",
     "text": [
      "Tests Passed\n"
     ]
    }
   ],
   "source": [
    "def flatten(x_tensor):\n",
    "    \"\"\"\n",
    "    Flatten x_tensor to (Batch Size, Flattened Image Size)\n",
    "    : x_tensor: A tensor of size (Batch Size, ...), where ... are the image dimensions.\n",
    "    : return: A tensor of size (Batch Size, Flattened Image Size).\n",
    "    \"\"\"\n",
    "    # TODO: Implement Function\n",
    "    shape = x_tensor.get_shape().as_list()\n",
    "    num_of_columns = shape[1] * shape[2] * shape[3]\n",
    "    flattened_tensor = tf.reshape(x_tensor, shape=[-1, num_of_columns])\n",
    "    return flattened_tensor\n",
    "\n",
    "\n",
    "\"\"\"\n",
    "DON'T MODIFY ANYTHING IN THIS CELL THAT IS BELOW THIS LINE\n",
    "\"\"\"\n",
    "tests.test_flatten(flatten)"
   ]
  },
  {
   "cell_type": "markdown",
   "metadata": {},
   "source": [
    "### Fully-Connected Layer\n",
    "Implement the `fully_conn` function to apply a fully connected layer to `x_tensor` with the shape (*Batch Size*, *num_outputs*). Shortcut option: you can use classes from the [TensorFlow Layers](https://www.tensorflow.org/api_docs/python/tf/layers) or [TensorFlow Layers (contrib)](https://www.tensorflow.org/api_guides/python/contrib.layers) packages for this layer. For more of a challenge, only use other TensorFlow packages."
   ]
  },
  {
   "cell_type": "code",
   "execution_count": 10,
   "metadata": {},
   "outputs": [
    {
     "name": "stdout",
     "output_type": "stream",
     "text": [
      "Tests Passed\n"
     ]
    }
   ],
   "source": [
    "def fully_conn(x_tensor, num_outputs):\n",
    "    \"\"\"\n",
    "    Apply a fully connected layer to x_tensor using weight and bias\n",
    "    : x_tensor: A 2-D tensor where the first dimension is batch size.\n",
    "    : num_outputs: The number of output that the new tensor should be.\n",
    "    : return: A 2-D tensor where the second dimension is num_outputs.\n",
    "    \"\"\"\n",
    "    # TODO: Implement Function\n",
    "    shape_of_in = x_tensor.get_shape().as_list()\n",
    "#     print(num_outputs)\n",
    "    weights = tf.Variable(tf.random_normal(shape=[shape_of_in[1], num_outputs])) * np.sqrt(2/shape_of_in[1])   # Xavier initialization \n",
    "#     print(weights.get_shape())\n",
    "#     biases = tf.Variable(tf.random_normal(shape=[num_outputs]))\n",
    "    biases = tf.Variable(tf.zeros(shape=num_outputs))\n",
    "    fc = tf.add(tf.matmul(x_tensor, weights), biases)\n",
    "    fc = tf.nn.relu(fc)\n",
    "    return fc\n",
    "\n",
    "\n",
    "\"\"\"\n",
    "DON'T MODIFY ANYTHING IN THIS CELL THAT IS BELOW THIS LINE\n",
    "\"\"\"\n",
    "tests.test_fully_conn(fully_conn)"
   ]
  },
  {
   "cell_type": "markdown",
   "metadata": {},
   "source": [
    "### Output Layer\n",
    "Implement the `output` function to apply a fully connected layer to `x_tensor` with the shape (*Batch Size*, *num_outputs*). Shortcut option: you can use classes from the [TensorFlow Layers](https://www.tensorflow.org/api_docs/python/tf/layers) or [TensorFlow Layers (contrib)](https://www.tensorflow.org/api_guides/python/contrib.layers) packages for this layer. For more of a challenge, only use other TensorFlow packages.\n",
    "\n",
    "**Note:** Activation, softmax, or cross entropy should **not** be applied to this."
   ]
  },
  {
   "cell_type": "code",
   "execution_count": 11,
   "metadata": {},
   "outputs": [
    {
     "name": "stdout",
     "output_type": "stream",
     "text": [
      "Tests Passed\n"
     ]
    }
   ],
   "source": [
    "def output(x_tensor, num_outputs):\n",
    "    \"\"\"\n",
    "    Apply a output layer to x_tensor using weight and bias\n",
    "    : x_tensor: A 2-D tensor where the first dimension is batch size.\n",
    "    : num_outputs: The number of output that the new tensor should be.\n",
    "    : return: A 2-D tensor where the second dimension is num_outputs.\n",
    "    \"\"\"\n",
    "    # TODO: Implement Function\n",
    "    in_shape = x_tensor.get_shape().as_list()\n",
    "    weights = tf.Variable(tf.random_normal(shape=[in_shape[1], num_outputs]))\n",
    "#     biases = tf.Variable(tf.random_normal(shape=[num_outputs]))\n",
    "    biases = tf.Variable(tf.zeros(shape=num_outputs))\n",
    "    logits = tf.add(tf.matmul(x_tensor, weights), biases)\n",
    "    return logits\n",
    "\n",
    "\n",
    "\"\"\"\n",
    "DON'T MODIFY ANYTHING IN THIS CELL THAT IS BELOW THIS LINE\n",
    "\"\"\"\n",
    "tests.test_output(output)"
   ]
  },
  {
   "cell_type": "markdown",
   "metadata": {},
   "source": [
    "### Create Convolutional Model\n",
    "Implement the function `conv_net` to create a convolutional neural network model. The function takes in a batch of images, `x`, and outputs logits.  Use the layers you created above to create this model:\n",
    "\n",
    "* Apply 1, 2, or 3 Convolution and Max Pool layers\n",
    "* Apply a Flatten Layer\n",
    "* Apply 1, 2, or 3 Fully Connected Layers\n",
    "* Apply an Output Layer\n",
    "* Return the output\n",
    "* Apply [TensorFlow's Dropout](https://www.tensorflow.org/api_docs/python/tf/nn/dropout) to one or more layers in the model using `keep_prob`. "
   ]
  },
  {
   "cell_type": "code",
   "execution_count": 12,
   "metadata": {},
   "outputs": [
    {
     "name": "stdout",
     "output_type": "stream",
     "text": [
      "WARNING:tensorflow:From <ipython-input-12-c373c362cd38>:67: softmax_cross_entropy_with_logits (from tensorflow.python.ops.nn_ops) is deprecated and will be removed in a future version.\n",
      "Instructions for updating:\n",
      "\n",
      "Future major versions of TensorFlow will allow gradients to flow\n",
      "into the labels input on backprop by default.\n",
      "\n",
      "See tf.nn.softmax_cross_entropy_with_logits_v2.\n",
      "\n",
      "Neural Network Built!\n"
     ]
    }
   ],
   "source": [
    "def conv_net(x, keep_prob):\n",
    "    \"\"\"\n",
    "    Create a convolutional neural network model\n",
    "    : x: Placeholder tensor that holds image data.\n",
    "    : keep_prob: Placeholder tensor that hold dropout keep probability.\n",
    "    : return: Tensor that represents logits\n",
    "    \"\"\"\n",
    "    # TODO: Apply 1, 2, or 3 Convolution and Max Pool layers\n",
    "    #    Play around with different number of outputs, kernel size and stride\n",
    "    # Function Definition from Above:\n",
    "    #    conv2d_maxpool(x_tensor, conv_num_outputs, conv_ksize, conv_strides, pool_ksize, pool_strides)\n",
    "    \n",
    "    conv1 = conv2d_maxpool(x, 32, [3, 3], [1, 1], [2, 2], [2, 2])\n",
    "    conv2 = conv2d_maxpool(conv1, 64, [3, 3], [1, 1], [3, 3], [2, 2])\n",
    "#     conv3 = conv2d_maxpool(conv2, 128, [3,3], [1,1], [2,2], [2,2])\n",
    "    drop_out1 = tf.nn.dropout(conv2, keep_prob)\n",
    "    \n",
    "    # TODO: Apply a Flatten Layer\n",
    "    # Function Definition from Above:\n",
    "    #   flatten(x_tensor)\n",
    "    flattened = flatten(drop_out1)\n",
    "\n",
    "    # TODO: Apply 1, 2, or 3 Fully Connected Layers\n",
    "    #    Play around with different number of outputs\n",
    "    # Function Definition from Above:\n",
    "    #   fully_conn(x_tensor, num_outputs)\n",
    "    fc1 = fully_conn(flattened, 400)\n",
    "#     drop_out1 = tf.nn.dropout(fc1, keep_prob)\n",
    "    fc2 = fully_conn(fc1, 200)\n",
    "#     drop_out2 = tf.nn.dropout(fc2, keep_prob)\n",
    "#     fc3 = fully_conn(fc1, 512)\n",
    "    drop_out3 = tf.nn.dropout(fc2, keep_prob)\n",
    "\n",
    "    # TODO: Apply an Output Layer\n",
    "    #    Set this to the number of classes\n",
    "    # Function Definition from Above:\n",
    "    #   output(x_tensor, num_outputs)\n",
    "    logits = output(drop_out3, 10)\n",
    "    \n",
    "    # TODO: return output\n",
    "    return logits\n",
    "\n",
    "\n",
    "\"\"\"\n",
    "DON'T MODIFY ANYTHING IN THIS CELL THAT IS BELOW THIS LINE\n",
    "\"\"\"\n",
    "\n",
    "##############################\n",
    "## Build the Neural Network ##\n",
    "##############################\n",
    "\n",
    "# Remove previous weights, bias, inputs, etc..\n",
    "tf.reset_default_graph()\n",
    "\n",
    "# Inputs\n",
    "x = neural_net_image_input((32, 32, 3))\n",
    "y = neural_net_label_input(10)\n",
    "keep_prob = neural_net_keep_prob_input()\n",
    "\n",
    "# Model\n",
    "logits = conv_net(x, keep_prob)\n",
    "\n",
    "# Name logits Tensor, so that is can be loaded from disk after training\n",
    "logits = tf.identity(logits, name='logits')\n",
    "\n",
    "# Loss and Optimizer\n",
    "cost = tf.reduce_mean(tf.nn.softmax_cross_entropy_with_logits(logits=logits, labels=y))\n",
    "optimizer = tf.train.AdamOptimizer().minimize(cost)\n",
    "\n",
    "# Accuracy\n",
    "correct_pred = tf.equal(tf.argmax(logits, 1), tf.argmax(y, 1))\n",
    "accuracy = tf.reduce_mean(tf.cast(correct_pred, tf.float32), name='accuracy')\n",
    "\n",
    "tests.test_conv_net(conv_net)"
   ]
  },
  {
   "cell_type": "markdown",
   "metadata": {},
   "source": [
    "## Train the Neural Network\n",
    "### Single Optimization\n",
    "Implement the function `train_neural_network` to do a single optimization.  The optimization should use `optimizer` to optimize in `session` with a `feed_dict` of the following:\n",
    "* `x` for image input\n",
    "* `y` for labels\n",
    "* `keep_prob` for keep probability for dropout\n",
    "\n",
    "This function will be called for each batch, so `tf.global_variables_initializer()` has already been called.\n",
    "\n",
    "Note: Nothing needs to be returned. This function is only optimizing the neural network."
   ]
  },
  {
   "cell_type": "code",
   "execution_count": 13,
   "metadata": {},
   "outputs": [
    {
     "name": "stdout",
     "output_type": "stream",
     "text": [
      "Tests Passed\n"
     ]
    }
   ],
   "source": [
    "def train_neural_network(session, optimizer, keep_probability, feature_batch, label_batch):\n",
    "    \"\"\"\n",
    "    Optimize the session on a batch of images and labels\n",
    "    : session: Current TensorFlow session\n",
    "    : optimizer: TensorFlow optimizer function\n",
    "    : keep_probability: keep probability\n",
    "    : feature_batch: Batch of Numpy image data\n",
    "    : label_batch: Batch of Numpy label data\n",
    "    \"\"\"\n",
    "    # TODO: Implement Function\n",
    "    session.run(optimizer, feed_dict={x: feature_batch, y:label_batch, keep_prob:keep_probability})\n",
    "    pass\n",
    "\n",
    "\n",
    "\"\"\"\n",
    "DON'T MODIFY ANYTHING IN THIS CELL THAT IS BELOW THIS LINE\n",
    "\"\"\"\n",
    "tests.test_train_nn(train_neural_network)"
   ]
  },
  {
   "cell_type": "markdown",
   "metadata": {},
   "source": [
    "### Show Stats\n",
    "Implement the function `print_stats` to print loss and validation accuracy.  Use the global variables `valid_features` and `valid_labels` to calculate validation accuracy.  Use a keep probability of `1.0` to calculate the loss and validation accuracy."
   ]
  },
  {
   "cell_type": "code",
   "execution_count": 14,
   "metadata": {},
   "outputs": [],
   "source": [
    "def print_stats(session, feature_batch, label_batch, cost, accuracy):\n",
    "    \"\"\"\n",
    "    Print information about loss and validation accuracy\n",
    "    : session: Current TensorFlow session\n",
    "    : feature_batch: Batch of Numpy image data\n",
    "    : label_batch: Batch of Numpy label data\n",
    "    : cost: TensorFlow cost function\n",
    "    : accuracy: TensorFlow accuracy function\n",
    "    \"\"\"\n",
    "    # TODO: Implement Function\n",
    "    global valid_features, valid_labels\n",
    "    loss_value = session.run(cost, feed_dict={x: feature_batch, \n",
    "                                              y: label_batch, \n",
    "                                              keep_prob: 1.0})\n",
    "\n",
    "    val_test_size = 512\n",
    "    val_accu = session.run(accuracy, feed_dict={x: valid_features[:val_test_size], \n",
    "                                                y: valid_labels[:val_test_size], \n",
    "                                                keep_prob: 1.0})\n",
    "    print(f\"Loss: {loss_value}  Validation Accuracy: {val_accu}\")\n",
    "    pass"
   ]
  },
  {
   "cell_type": "markdown",
   "metadata": {},
   "source": [
    "### Hyperparameters\n",
    "Tune the following parameters:\n",
    "* Set `epochs` to the number of iterations until the network stops learning or start overfitting\n",
    "* Set `batch_size` to the highest number that your machine has memory for.  Most people set them to common sizes of memory:\n",
    " * 64\n",
    " * 128\n",
    " * 256\n",
    " * ...\n",
    "* Set `keep_probability` to the probability of keeping a node using dropout"
   ]
  },
  {
   "cell_type": "code",
   "execution_count": 15,
   "metadata": {},
   "outputs": [],
   "source": [
    "# TODO: Tune Parameters\n",
    "epochs = 50\n",
    "batch_size = 512\n",
    "keep_probability = 0.7"
   ]
  },
  {
   "cell_type": "markdown",
   "metadata": {},
   "source": [
    "### Train on a Single CIFAR-10 Batch\n",
    "Instead of training the neural network on all the CIFAR-10 batches of data, let's use a single batch. This should save time while you iterate on the model to get a better accuracy.  Once the final validation accuracy is 50% or greater, run the model on all the data in the next section."
   ]
  },
  {
   "cell_type": "code",
   "execution_count": 16,
   "metadata": {
    "scrolled": false
   },
   "outputs": [
    {
     "name": "stdout",
     "output_type": "stream",
     "text": [
      "Checking the Training on a Single Batch...\n",
      "Epoch  1, CIFAR-10 Batch 1:  Loss: 3.5581817626953125  Validation Accuracy: 0.138671875\n",
      "Epoch  2, CIFAR-10 Batch 1:  Loss: 2.815100908279419  Validation Accuracy: 0.126953125\n",
      "Epoch  3, CIFAR-10 Batch 1:  Loss: 2.402956247329712  Validation Accuracy: 0.15234375\n",
      "Epoch  4, CIFAR-10 Batch 1:  Loss: 2.2675178050994873  Validation Accuracy: 0.16015625\n",
      "Epoch  5, CIFAR-10 Batch 1:  Loss: 2.2460594177246094  Validation Accuracy: 0.166015625\n",
      "Epoch  6, CIFAR-10 Batch 1:  Loss: 2.252570867538452  Validation Accuracy: 0.177734375\n",
      "Epoch  7, CIFAR-10 Batch 1:  Loss: 2.2593183517456055  Validation Accuracy: 0.181640625\n",
      "Epoch  8, CIFAR-10 Batch 1:  Loss: 2.2664685249328613  Validation Accuracy: 0.1640625\n",
      "Epoch  9, CIFAR-10 Batch 1:  Loss: 2.262615442276001  Validation Accuracy: 0.19140625\n",
      "Epoch 10, CIFAR-10 Batch 1:  Loss: 2.2519145011901855  Validation Accuracy: 0.2109375\n",
      "Epoch 11, CIFAR-10 Batch 1:  Loss: 2.2358415126800537  Validation Accuracy: 0.23828125\n",
      "Epoch 12, CIFAR-10 Batch 1:  Loss: 2.2059683799743652  Validation Accuracy: 0.2578125\n",
      "Epoch 13, CIFAR-10 Batch 1:  Loss: 2.1686928272247314  Validation Accuracy: 0.26171875\n",
      "Epoch 14, CIFAR-10 Batch 1:  Loss: 2.1269335746765137  Validation Accuracy: 0.275390625\n",
      "Epoch 15, CIFAR-10 Batch 1:  Loss: 2.0884652137756348  Validation Accuracy: 0.29296875\n",
      "Epoch 16, CIFAR-10 Batch 1:  Loss: 2.0629007816314697  Validation Accuracy: 0.306640625\n",
      "Epoch 17, CIFAR-10 Batch 1:  Loss: 2.039700508117676  Validation Accuracy: 0.310546875\n",
      "Epoch 18, CIFAR-10 Batch 1:  Loss: 2.0067543983459473  Validation Accuracy: 0.32421875\n",
      "Epoch 19, CIFAR-10 Batch 1:  Loss: 1.9772073030471802  Validation Accuracy: 0.328125\n",
      "Epoch 20, CIFAR-10 Batch 1:  Loss: 1.9439340829849243  Validation Accuracy: 0.333984375\n",
      "Epoch 21, CIFAR-10 Batch 1:  Loss: 1.9263017177581787  Validation Accuracy: 0.337890625\n",
      "Epoch 22, CIFAR-10 Batch 1:  Loss: 1.89532470703125  Validation Accuracy: 0.361328125\n",
      "Epoch 23, CIFAR-10 Batch 1:  Loss: 1.8793411254882812  Validation Accuracy: 0.3515625\n",
      "Epoch 24, CIFAR-10 Batch 1:  Loss: 1.8590497970581055  Validation Accuracy: 0.349609375\n",
      "Epoch 25, CIFAR-10 Batch 1:  Loss: 1.8325443267822266  Validation Accuracy: 0.3515625\n",
      "Epoch 26, CIFAR-10 Batch 1:  Loss: 1.8089768886566162  Validation Accuracy: 0.3828125\n",
      "Epoch 27, CIFAR-10 Batch 1:  Loss: 1.7923320531845093  Validation Accuracy: 0.392578125\n",
      "Epoch 28, CIFAR-10 Batch 1:  Loss: 1.7750914096832275  Validation Accuracy: 0.3828125\n",
      "Epoch 29, CIFAR-10 Batch 1:  Loss: 1.7543349266052246  Validation Accuracy: 0.3828125\n",
      "Epoch 30, CIFAR-10 Batch 1:  Loss: 1.731899380683899  Validation Accuracy: 0.392578125\n",
      "Epoch 31, CIFAR-10 Batch 1:  Loss: 1.7162070274353027  Validation Accuracy: 0.390625\n",
      "Epoch 32, CIFAR-10 Batch 1:  Loss: 1.7082597017288208  Validation Accuracy: 0.39453125\n",
      "Epoch 33, CIFAR-10 Batch 1:  Loss: 1.6804219484329224  Validation Accuracy: 0.396484375\n",
      "Epoch 34, CIFAR-10 Batch 1:  Loss: 1.6625036001205444  Validation Accuracy: 0.3984375\n",
      "Epoch 35, CIFAR-10 Batch 1:  Loss: 1.6340564489364624  Validation Accuracy: 0.3984375\n",
      "Epoch 36, CIFAR-10 Batch 1:  Loss: 1.6122711896896362  Validation Accuracy: 0.3984375\n",
      "Epoch 37, CIFAR-10 Batch 1:  Loss: 1.5960854291915894  Validation Accuracy: 0.416015625\n",
      "Epoch 38, CIFAR-10 Batch 1:  Loss: 1.5834407806396484  Validation Accuracy: 0.419921875\n",
      "Epoch 39, CIFAR-10 Batch 1:  Loss: 1.5713461637496948  Validation Accuracy: 0.42578125\n",
      "Epoch 40, CIFAR-10 Batch 1:  Loss: 1.554797887802124  Validation Accuracy: 0.419921875\n",
      "Epoch 41, CIFAR-10 Batch 1:  Loss: 1.537301778793335  Validation Accuracy: 0.431640625\n",
      "Epoch 42, CIFAR-10 Batch 1:  Loss: 1.5203826427459717  Validation Accuracy: 0.431640625\n",
      "Epoch 43, CIFAR-10 Batch 1:  Loss: 1.5119764804840088  Validation Accuracy: 0.41796875\n",
      "Epoch 44, CIFAR-10 Batch 1:  Loss: 1.4945658445358276  Validation Accuracy: 0.4296875\n",
      "Epoch 45, CIFAR-10 Batch 1:  Loss: 1.4691673517227173  Validation Accuracy: 0.4375\n",
      "Epoch 46, CIFAR-10 Batch 1:  Loss: 1.4601261615753174  Validation Accuracy: 0.44140625\n",
      "Epoch 47, CIFAR-10 Batch 1:  Loss: 1.4471378326416016  Validation Accuracy: 0.421875\n",
      "Epoch 48, CIFAR-10 Batch 1:  Loss: 1.4324647188186646  Validation Accuracy: 0.44140625\n",
      "Epoch 49, CIFAR-10 Batch 1:  Loss: 1.4179856777191162  Validation Accuracy: 0.451171875\n",
      "Epoch 50, CIFAR-10 Batch 1:  Loss: 1.407875418663025  Validation Accuracy: 0.451171875\n"
     ]
    }
   ],
   "source": [
    "\"\"\"\n",
    "DON'T MODIFY ANYTHING IN THIS CELL\n",
    "\"\"\"\n",
    "print('Checking the Training on a Single Batch...')\n",
    "with tf.Session() as sess:\n",
    "    # Initializing the variables\n",
    "    sess.run(tf.global_variables_initializer())\n",
    "    \n",
    "    # Training cycle\n",
    "    for epoch in range(epochs):\n",
    "        batch_i = 1\n",
    "        for batch_features, batch_labels in helper.load_preprocess_training_batch(batch_i, batch_size):\n",
    "            train_neural_network(sess, optimizer, keep_probability, batch_features, batch_labels)\n",
    "        print('Epoch {:>2}, CIFAR-10 Batch {}:  '.format(epoch + 1, batch_i), end='')\n",
    "        print_stats(sess, batch_features, batch_labels, cost, accuracy)"
   ]
  },
  {
   "cell_type": "markdown",
   "metadata": {},
   "source": [
    "### Fully Train the Model\n",
    "Now that you got a good accuracy with a single CIFAR-10 batch, try it with all five batches."
   ]
  },
  {
   "cell_type": "code",
   "execution_count": 17,
   "metadata": {
    "scrolled": false
   },
   "outputs": [
    {
     "name": "stdout",
     "output_type": "stream",
     "text": [
      "Training...\n",
      "Epoch  1, CIFAR-10 Batch 1:  Loss: 6.209898948669434  Validation Accuracy: 0.12890625\n",
      "Epoch  1, CIFAR-10 Batch 2:  Loss: 2.8855817317962646  Validation Accuracy: 0.140625\n",
      "Epoch  1, CIFAR-10 Batch 3:  Loss: 2.5724258422851562  Validation Accuracy: 0.15234375\n",
      "Epoch  1, CIFAR-10 Batch 4:  Loss: 2.310319185256958  Validation Accuracy: 0.16015625\n",
      "Epoch  1, CIFAR-10 Batch 5:  Loss: 2.2263967990875244  Validation Accuracy: 0.13671875\n",
      "Epoch  2, CIFAR-10 Batch 1:  Loss: 2.2702901363372803  Validation Accuracy: 0.115234375\n",
      "Epoch  2, CIFAR-10 Batch 2:  Loss: 2.2463321685791016  Validation Accuracy: 0.130859375\n",
      "Epoch  2, CIFAR-10 Batch 3:  Loss: 2.2665598392486572  Validation Accuracy: 0.15234375\n",
      "Epoch  2, CIFAR-10 Batch 4:  Loss: 2.24040150642395  Validation Accuracy: 0.146484375\n",
      "Epoch  2, CIFAR-10 Batch 5:  Loss: 2.235816478729248  Validation Accuracy: 0.154296875\n",
      "Epoch  3, CIFAR-10 Batch 1:  Loss: 2.2390360832214355  Validation Accuracy: 0.1640625\n",
      "Epoch  3, CIFAR-10 Batch 2:  Loss: 2.2451982498168945  Validation Accuracy: 0.173828125\n",
      "Epoch  3, CIFAR-10 Batch 3:  Loss: 2.2422096729278564  Validation Accuracy: 0.177734375\n",
      "Epoch  3, CIFAR-10 Batch 4:  Loss: 2.2090048789978027  Validation Accuracy: 0.201171875\n",
      "Epoch  3, CIFAR-10 Batch 5:  Loss: 2.1896750926971436  Validation Accuracy: 0.205078125\n",
      "Epoch  4, CIFAR-10 Batch 1:  Loss: 2.1756248474121094  Validation Accuracy: 0.21484375\n",
      "Epoch  4, CIFAR-10 Batch 2:  Loss: 2.1442883014678955  Validation Accuracy: 0.2265625\n",
      "Epoch  4, CIFAR-10 Batch 3:  Loss: 2.119884490966797  Validation Accuracy: 0.228515625\n",
      "Epoch  4, CIFAR-10 Batch 4:  Loss: 2.0746870040893555  Validation Accuracy: 0.234375\n",
      "Epoch  4, CIFAR-10 Batch 5:  Loss: 2.043400764465332  Validation Accuracy: 0.248046875\n",
      "Epoch  5, CIFAR-10 Batch 1:  Loss: 2.054471731185913  Validation Accuracy: 0.2578125\n",
      "Epoch  5, CIFAR-10 Batch 2:  Loss: 1.9918718338012695  Validation Accuracy: 0.275390625\n",
      "Epoch  5, CIFAR-10 Batch 3:  Loss: 1.963288426399231  Validation Accuracy: 0.2890625\n",
      "Epoch  5, CIFAR-10 Batch 4:  Loss: 1.9119656085968018  Validation Accuracy: 0.296875\n",
      "Epoch  5, CIFAR-10 Batch 5:  Loss: 1.9150549173355103  Validation Accuracy: 0.3125\n",
      "Epoch  6, CIFAR-10 Batch 1:  Loss: 1.9530270099639893  Validation Accuracy: 0.314453125\n",
      "Epoch  6, CIFAR-10 Batch 2:  Loss: 1.860609769821167  Validation Accuracy: 0.337890625\n",
      "Epoch  6, CIFAR-10 Batch 3:  Loss: 1.8389859199523926  Validation Accuracy: 0.3359375\n",
      "Epoch  6, CIFAR-10 Batch 4:  Loss: 1.7756729125976562  Validation Accuracy: 0.341796875\n",
      "Epoch  6, CIFAR-10 Batch 5:  Loss: 1.8070054054260254  Validation Accuracy: 0.3359375\n",
      "Epoch  7, CIFAR-10 Batch 1:  Loss: 1.8608239889144897  Validation Accuracy: 0.34375\n",
      "Epoch  7, CIFAR-10 Batch 2:  Loss: 1.7479338645935059  Validation Accuracy: 0.353515625\n",
      "Epoch  7, CIFAR-10 Batch 3:  Loss: 1.7426574230194092  Validation Accuracy: 0.3671875\n",
      "Epoch  7, CIFAR-10 Batch 4:  Loss: 1.6827412843704224  Validation Accuracy: 0.37109375\n",
      "Epoch  7, CIFAR-10 Batch 5:  Loss: 1.7251300811767578  Validation Accuracy: 0.373046875\n",
      "Epoch  8, CIFAR-10 Batch 1:  Loss: 1.7922340631484985  Validation Accuracy: 0.388671875\n",
      "Epoch  8, CIFAR-10 Batch 2:  Loss: 1.6703580617904663  Validation Accuracy: 0.3828125\n",
      "Epoch  8, CIFAR-10 Batch 3:  Loss: 1.6535065174102783  Validation Accuracy: 0.39453125\n",
      "Epoch  8, CIFAR-10 Batch 4:  Loss: 1.6217529773712158  Validation Accuracy: 0.3984375\n",
      "Epoch  8, CIFAR-10 Batch 5:  Loss: 1.6479949951171875  Validation Accuracy: 0.3984375\n",
      "Epoch  9, CIFAR-10 Batch 1:  Loss: 1.7343688011169434  Validation Accuracy: 0.4140625\n",
      "Epoch  9, CIFAR-10 Batch 2:  Loss: 1.6093829870224  Validation Accuracy: 0.404296875\n",
      "Epoch  9, CIFAR-10 Batch 3:  Loss: 1.5799936056137085  Validation Accuracy: 0.42578125\n",
      "Epoch  9, CIFAR-10 Batch 4:  Loss: 1.5553640127182007  Validation Accuracy: 0.421875\n",
      "Epoch  9, CIFAR-10 Batch 5:  Loss: 1.5908701419830322  Validation Accuracy: 0.41796875\n",
      "Epoch 10, CIFAR-10 Batch 1:  Loss: 1.6950613260269165  Validation Accuracy: 0.443359375\n",
      "Epoch 10, CIFAR-10 Batch 2:  Loss: 1.5498358011245728  Validation Accuracy: 0.447265625\n",
      "Epoch 10, CIFAR-10 Batch 3:  Loss: 1.5044046640396118  Validation Accuracy: 0.447265625\n",
      "Epoch 10, CIFAR-10 Batch 4:  Loss: 1.4890040159225464  Validation Accuracy: 0.4453125\n",
      "Epoch 10, CIFAR-10 Batch 5:  Loss: 1.530255675315857  Validation Accuracy: 0.455078125\n",
      "Epoch 11, CIFAR-10 Batch 1:  Loss: 1.636552333831787  Validation Accuracy: 0.4453125\n",
      "Epoch 11, CIFAR-10 Batch 2:  Loss: 1.5021717548370361  Validation Accuracy: 0.4453125\n",
      "Epoch 11, CIFAR-10 Batch 3:  Loss: 1.4426088333129883  Validation Accuracy: 0.4453125\n",
      "Epoch 11, CIFAR-10 Batch 4:  Loss: 1.4307256937026978  Validation Accuracy: 0.458984375\n",
      "Epoch 11, CIFAR-10 Batch 5:  Loss: 1.4777581691741943  Validation Accuracy: 0.4609375\n",
      "Epoch 12, CIFAR-10 Batch 1:  Loss: 1.5990893840789795  Validation Accuracy: 0.46484375\n",
      "Epoch 12, CIFAR-10 Batch 2:  Loss: 1.450435996055603  Validation Accuracy: 0.474609375\n",
      "Epoch 12, CIFAR-10 Batch 3:  Loss: 1.3700332641601562  Validation Accuracy: 0.486328125\n",
      "Epoch 12, CIFAR-10 Batch 4:  Loss: 1.3763885498046875  Validation Accuracy: 0.482421875\n",
      "Epoch 12, CIFAR-10 Batch 5:  Loss: 1.435072422027588  Validation Accuracy: 0.48046875\n",
      "Epoch 13, CIFAR-10 Batch 1:  Loss: 1.5269408226013184  Validation Accuracy: 0.478515625\n",
      "Epoch 13, CIFAR-10 Batch 2:  Loss: 1.4105145931243896  Validation Accuracy: 0.494140625\n",
      "Epoch 13, CIFAR-10 Batch 3:  Loss: 1.3166179656982422  Validation Accuracy: 0.49609375\n",
      "Epoch 13, CIFAR-10 Batch 4:  Loss: 1.3263475894927979  Validation Accuracy: 0.4921875\n",
      "Epoch 13, CIFAR-10 Batch 5:  Loss: 1.3859167098999023  Validation Accuracy: 0.5\n",
      "Epoch 14, CIFAR-10 Batch 1:  Loss: 1.4766086339950562  Validation Accuracy: 0.50390625\n",
      "Epoch 14, CIFAR-10 Batch 2:  Loss: 1.3765778541564941  Validation Accuracy: 0.501953125\n",
      "Epoch 14, CIFAR-10 Batch 3:  Loss: 1.2667992115020752  Validation Accuracy: 0.498046875\n",
      "Epoch 14, CIFAR-10 Batch 4:  Loss: 1.2700519561767578  Validation Accuracy: 0.5\n",
      "Epoch 14, CIFAR-10 Batch 5:  Loss: 1.339383602142334  Validation Accuracy: 0.51171875\n",
      "Epoch 15, CIFAR-10 Batch 1:  Loss: 1.4411680698394775  Validation Accuracy: 0.501953125\n",
      "Epoch 15, CIFAR-10 Batch 2:  Loss: 1.3364465236663818  Validation Accuracy: 0.501953125\n",
      "Epoch 15, CIFAR-10 Batch 3:  Loss: 1.2321505546569824  Validation Accuracy: 0.5\n",
      "Epoch 15, CIFAR-10 Batch 4:  Loss: 1.2324451208114624  Validation Accuracy: 0.509765625\n",
      "Epoch 15, CIFAR-10 Batch 5:  Loss: 1.3059958219528198  Validation Accuracy: 0.505859375\n",
      "Epoch 16, CIFAR-10 Batch 1:  Loss: 1.398097276687622  Validation Accuracy: 0.513671875\n",
      "Epoch 16, CIFAR-10 Batch 2:  Loss: 1.304800271987915  Validation Accuracy: 0.529296875\n",
      "Epoch 16, CIFAR-10 Batch 3:  Loss: 1.206144094467163  Validation Accuracy: 0.51171875\n",
      "Epoch 16, CIFAR-10 Batch 4:  Loss: 1.2064480781555176  Validation Accuracy: 0.515625\n",
      "Epoch 16, CIFAR-10 Batch 5:  Loss: 1.2735141515731812  Validation Accuracy: 0.515625\n",
      "Epoch 17, CIFAR-10 Batch 1:  Loss: 1.365529179573059  Validation Accuracy: 0.521484375\n",
      "Epoch 17, CIFAR-10 Batch 2:  Loss: 1.267827033996582  Validation Accuracy: 0.5390625\n",
      "Epoch 17, CIFAR-10 Batch 3:  Loss: 1.1667720079421997  Validation Accuracy: 0.513671875\n",
      "Epoch 17, CIFAR-10 Batch 4:  Loss: 1.1607686281204224  Validation Accuracy: 0.52734375\n",
      "Epoch 17, CIFAR-10 Batch 5:  Loss: 1.2403056621551514  Validation Accuracy: 0.51953125\n",
      "Epoch 18, CIFAR-10 Batch 1:  Loss: 1.3426620960235596  Validation Accuracy: 0.5234375\n",
      "Epoch 18, CIFAR-10 Batch 2:  Loss: 1.2351704835891724  Validation Accuracy: 0.515625\n",
      "Epoch 18, CIFAR-10 Batch 3:  Loss: 1.1379202604293823  Validation Accuracy: 0.53125\n",
      "Epoch 18, CIFAR-10 Batch 4:  Loss: 1.1384578943252563  Validation Accuracy: 0.537109375\n",
      "Epoch 18, CIFAR-10 Batch 5:  Loss: 1.2147390842437744  Validation Accuracy: 0.52734375\n",
      "Epoch 19, CIFAR-10 Batch 1:  Loss: 1.3160651922225952  Validation Accuracy: 0.5390625\n",
      "Epoch 19, CIFAR-10 Batch 2:  Loss: 1.213935136795044  Validation Accuracy: 0.5390625\n",
      "Epoch 19, CIFAR-10 Batch 3:  Loss: 1.1162793636322021  Validation Accuracy: 0.546875\n",
      "Epoch 19, CIFAR-10 Batch 4:  Loss: 1.104539155960083  Validation Accuracy: 0.533203125\n"
     ]
    },
    {
     "name": "stdout",
     "output_type": "stream",
     "text": [
      "Epoch 19, CIFAR-10 Batch 5:  Loss: 1.1826707124710083  Validation Accuracy: 0.53125\n",
      "Epoch 20, CIFAR-10 Batch 1:  Loss: 1.3043420314788818  Validation Accuracy: 0.529296875\n",
      "Epoch 20, CIFAR-10 Batch 2:  Loss: 1.1947357654571533  Validation Accuracy: 0.533203125\n",
      "Epoch 20, CIFAR-10 Batch 3:  Loss: 1.0940486192703247  Validation Accuracy: 0.541015625\n",
      "Epoch 20, CIFAR-10 Batch 4:  Loss: 1.0834218263626099  Validation Accuracy: 0.546875\n",
      "Epoch 20, CIFAR-10 Batch 5:  Loss: 1.1635597944259644  Validation Accuracy: 0.5390625\n",
      "Epoch 21, CIFAR-10 Batch 1:  Loss: 1.2827144861221313  Validation Accuracy: 0.517578125\n",
      "Epoch 21, CIFAR-10 Batch 2:  Loss: 1.156010627746582  Validation Accuracy: 0.53125\n",
      "Epoch 21, CIFAR-10 Batch 3:  Loss: 1.062736988067627  Validation Accuracy: 0.533203125\n",
      "Epoch 21, CIFAR-10 Batch 4:  Loss: 1.0560362339019775  Validation Accuracy: 0.52734375\n",
      "Epoch 21, CIFAR-10 Batch 5:  Loss: 1.143694519996643  Validation Accuracy: 0.533203125\n",
      "Epoch 22, CIFAR-10 Batch 1:  Loss: 1.2539646625518799  Validation Accuracy: 0.53125\n",
      "Epoch 22, CIFAR-10 Batch 2:  Loss: 1.1400041580200195  Validation Accuracy: 0.53515625\n",
      "Epoch 22, CIFAR-10 Batch 3:  Loss: 1.0510311126708984  Validation Accuracy: 0.541015625\n",
      "Epoch 22, CIFAR-10 Batch 4:  Loss: 1.0343257188796997  Validation Accuracy: 0.55078125\n",
      "Epoch 22, CIFAR-10 Batch 5:  Loss: 1.1250919103622437  Validation Accuracy: 0.537109375\n",
      "Epoch 23, CIFAR-10 Batch 1:  Loss: 1.2364097833633423  Validation Accuracy: 0.541015625\n",
      "Epoch 23, CIFAR-10 Batch 2:  Loss: 1.1221846342086792  Validation Accuracy: 0.546875\n",
      "Epoch 23, CIFAR-10 Batch 3:  Loss: 1.0289816856384277  Validation Accuracy: 0.548828125\n",
      "Epoch 23, CIFAR-10 Batch 4:  Loss: 1.0112112760543823  Validation Accuracy: 0.546875\n",
      "Epoch 23, CIFAR-10 Batch 5:  Loss: 1.1015878915786743  Validation Accuracy: 0.55078125\n",
      "Epoch 24, CIFAR-10 Batch 1:  Loss: 1.217455267906189  Validation Accuracy: 0.5546875\n",
      "Epoch 24, CIFAR-10 Batch 2:  Loss: 1.0920350551605225  Validation Accuracy: 0.5546875\n",
      "Epoch 24, CIFAR-10 Batch 3:  Loss: 1.0048177242279053  Validation Accuracy: 0.544921875\n",
      "Epoch 24, CIFAR-10 Batch 4:  Loss: 0.9973034262657166  Validation Accuracy: 0.560546875\n",
      "Epoch 24, CIFAR-10 Batch 5:  Loss: 1.0842169523239136  Validation Accuracy: 0.548828125\n",
      "Epoch 25, CIFAR-10 Batch 1:  Loss: 1.1983674764633179  Validation Accuracy: 0.55859375\n",
      "Epoch 25, CIFAR-10 Batch 2:  Loss: 1.0765308141708374  Validation Accuracy: 0.560546875\n",
      "Epoch 25, CIFAR-10 Batch 3:  Loss: 0.9942043423652649  Validation Accuracy: 0.568359375\n",
      "Epoch 25, CIFAR-10 Batch 4:  Loss: 0.9794195890426636  Validation Accuracy: 0.5546875\n",
      "Epoch 25, CIFAR-10 Batch 5:  Loss: 1.0680749416351318  Validation Accuracy: 0.548828125\n",
      "Epoch 26, CIFAR-10 Batch 1:  Loss: 1.1759861707687378  Validation Accuracy: 0.55859375\n",
      "Epoch 26, CIFAR-10 Batch 2:  Loss: 1.058823823928833  Validation Accuracy: 0.55078125\n",
      "Epoch 26, CIFAR-10 Batch 3:  Loss: 0.9700026512145996  Validation Accuracy: 0.568359375\n",
      "Epoch 26, CIFAR-10 Batch 4:  Loss: 0.9607416391372681  Validation Accuracy: 0.57421875\n",
      "Epoch 26, CIFAR-10 Batch 5:  Loss: 1.0573835372924805  Validation Accuracy: 0.564453125\n",
      "Epoch 27, CIFAR-10 Batch 1:  Loss: 1.1742244958877563  Validation Accuracy: 0.5703125\n",
      "Epoch 27, CIFAR-10 Batch 2:  Loss: 1.0399192571640015  Validation Accuracy: 0.564453125\n",
      "Epoch 27, CIFAR-10 Batch 3:  Loss: 0.9563560485839844  Validation Accuracy: 0.57421875\n",
      "Epoch 27, CIFAR-10 Batch 4:  Loss: 0.9401686191558838  Validation Accuracy: 0.57421875\n",
      "Epoch 27, CIFAR-10 Batch 5:  Loss: 1.0357367992401123  Validation Accuracy: 0.556640625\n",
      "Epoch 28, CIFAR-10 Batch 1:  Loss: 1.153865933418274  Validation Accuracy: 0.564453125\n",
      "Epoch 28, CIFAR-10 Batch 2:  Loss: 1.026110053062439  Validation Accuracy: 0.56640625\n",
      "Epoch 28, CIFAR-10 Batch 3:  Loss: 0.9329527616500854  Validation Accuracy: 0.580078125\n",
      "Epoch 28, CIFAR-10 Batch 4:  Loss: 0.9205462336540222  Validation Accuracy: 0.5859375\n",
      "Epoch 28, CIFAR-10 Batch 5:  Loss: 1.0094211101531982  Validation Accuracy: 0.5703125\n",
      "Epoch 29, CIFAR-10 Batch 1:  Loss: 1.1371785402297974  Validation Accuracy: 0.576171875\n",
      "Epoch 29, CIFAR-10 Batch 2:  Loss: 1.011624813079834  Validation Accuracy: 0.58203125\n",
      "Epoch 29, CIFAR-10 Batch 3:  Loss: 0.9188913106918335  Validation Accuracy: 0.587890625\n",
      "Epoch 29, CIFAR-10 Batch 4:  Loss: 0.9020111560821533  Validation Accuracy: 0.587890625\n",
      "Epoch 29, CIFAR-10 Batch 5:  Loss: 0.9916593432426453  Validation Accuracy: 0.578125\n",
      "Epoch 30, CIFAR-10 Batch 1:  Loss: 1.1120007038116455  Validation Accuracy: 0.587890625\n",
      "Epoch 30, CIFAR-10 Batch 2:  Loss: 0.9864055514335632  Validation Accuracy: 0.59375\n",
      "Epoch 30, CIFAR-10 Batch 3:  Loss: 0.8990818858146667  Validation Accuracy: 0.587890625\n",
      "Epoch 30, CIFAR-10 Batch 4:  Loss: 0.8905051946640015  Validation Accuracy: 0.58984375\n",
      "Epoch 30, CIFAR-10 Batch 5:  Loss: 0.9768549799919128  Validation Accuracy: 0.580078125\n",
      "Epoch 31, CIFAR-10 Batch 1:  Loss: 1.097598910331726  Validation Accuracy: 0.580078125\n",
      "Epoch 31, CIFAR-10 Batch 2:  Loss: 0.9728279113769531  Validation Accuracy: 0.59375\n",
      "Epoch 31, CIFAR-10 Batch 3:  Loss: 0.8829680681228638  Validation Accuracy: 0.591796875\n",
      "Epoch 31, CIFAR-10 Batch 4:  Loss: 0.8862757086753845  Validation Accuracy: 0.58984375\n",
      "Epoch 31, CIFAR-10 Batch 5:  Loss: 0.9573957920074463  Validation Accuracy: 0.583984375\n",
      "Epoch 32, CIFAR-10 Batch 1:  Loss: 1.0845743417739868  Validation Accuracy: 0.591796875\n",
      "Epoch 32, CIFAR-10 Batch 2:  Loss: 0.9517545104026794  Validation Accuracy: 0.59765625\n",
      "Epoch 32, CIFAR-10 Batch 3:  Loss: 0.8767484426498413  Validation Accuracy: 0.603515625\n",
      "Epoch 32, CIFAR-10 Batch 4:  Loss: 0.865121603012085  Validation Accuracy: 0.60546875\n",
      "Epoch 32, CIFAR-10 Batch 5:  Loss: 0.9425393342971802  Validation Accuracy: 0.580078125\n",
      "Epoch 33, CIFAR-10 Batch 1:  Loss: 1.068081021308899  Validation Accuracy: 0.607421875\n",
      "Epoch 33, CIFAR-10 Batch 2:  Loss: 0.9408320784568787  Validation Accuracy: 0.580078125\n",
      "Epoch 33, CIFAR-10 Batch 3:  Loss: 0.8630725741386414  Validation Accuracy: 0.60546875\n",
      "Epoch 33, CIFAR-10 Batch 4:  Loss: 0.8572255373001099  Validation Accuracy: 0.59765625\n",
      "Epoch 33, CIFAR-10 Batch 5:  Loss: 0.9332594871520996  Validation Accuracy: 0.615234375\n",
      "Epoch 34, CIFAR-10 Batch 1:  Loss: 1.0507007837295532  Validation Accuracy: 0.609375\n",
      "Epoch 34, CIFAR-10 Batch 2:  Loss: 0.9295456409454346  Validation Accuracy: 0.611328125\n",
      "Epoch 34, CIFAR-10 Batch 3:  Loss: 0.8422582745552063  Validation Accuracy: 0.619140625\n",
      "Epoch 34, CIFAR-10 Batch 4:  Loss: 0.8343076705932617  Validation Accuracy: 0.603515625\n",
      "Epoch 34, CIFAR-10 Batch 5:  Loss: 0.9120456576347351  Validation Accuracy: 0.599609375\n",
      "Epoch 35, CIFAR-10 Batch 1:  Loss: 1.0333247184753418  Validation Accuracy: 0.611328125\n",
      "Epoch 35, CIFAR-10 Batch 2:  Loss: 0.9074163436889648  Validation Accuracy: 0.61328125\n",
      "Epoch 35, CIFAR-10 Batch 3:  Loss: 0.8310281038284302  Validation Accuracy: 0.619140625\n",
      "Epoch 35, CIFAR-10 Batch 4:  Loss: 0.8198230266571045  Validation Accuracy: 0.625\n",
      "Epoch 35, CIFAR-10 Batch 5:  Loss: 0.8964377641677856  Validation Accuracy: 0.59765625\n",
      "Epoch 36, CIFAR-10 Batch 1:  Loss: 1.0206612348556519  Validation Accuracy: 0.6328125\n",
      "Epoch 36, CIFAR-10 Batch 2:  Loss: 0.8932969570159912  Validation Accuracy: 0.607421875\n",
      "Epoch 36, CIFAR-10 Batch 3:  Loss: 0.8194800019264221  Validation Accuracy: 0.6171875\n",
      "Epoch 36, CIFAR-10 Batch 4:  Loss: 0.8115362524986267  Validation Accuracy: 0.6171875\n",
      "Epoch 36, CIFAR-10 Batch 5:  Loss: 0.8774545788764954  Validation Accuracy: 0.611328125\n",
      "Epoch 37, CIFAR-10 Batch 1:  Loss: 1.001172423362732  Validation Accuracy: 0.61328125\n",
      "Epoch 37, CIFAR-10 Batch 2:  Loss: 0.8813291192054749  Validation Accuracy: 0.609375\n",
      "Epoch 37, CIFAR-10 Batch 3:  Loss: 0.8040952682495117  Validation Accuracy: 0.626953125\n",
      "Epoch 37, CIFAR-10 Batch 4:  Loss: 0.8002568483352661  Validation Accuracy: 0.6171875\n",
      "Epoch 37, CIFAR-10 Batch 5:  Loss: 0.8715018033981323  Validation Accuracy: 0.6171875\n",
      "Epoch 38, CIFAR-10 Batch 1:  Loss: 0.98609459400177  Validation Accuracy: 0.62109375\n",
      "Epoch 38, CIFAR-10 Batch 2:  Loss: 0.86515212059021  Validation Accuracy: 0.61328125\n",
      "Epoch 38, CIFAR-10 Batch 3:  Loss: 0.7831379175186157  Validation Accuracy: 0.62890625\n"
     ]
    },
    {
     "name": "stdout",
     "output_type": "stream",
     "text": [
      "Epoch 38, CIFAR-10 Batch 4:  Loss: 0.7824649214744568  Validation Accuracy: 0.62109375\n",
      "Epoch 38, CIFAR-10 Batch 5:  Loss: 0.8464924693107605  Validation Accuracy: 0.625\n",
      "Epoch 39, CIFAR-10 Batch 1:  Loss: 0.9817579984664917  Validation Accuracy: 0.623046875\n",
      "Epoch 39, CIFAR-10 Batch 2:  Loss: 0.8532975912094116  Validation Accuracy: 0.623046875\n",
      "Epoch 39, CIFAR-10 Batch 3:  Loss: 0.7718373537063599  Validation Accuracy: 0.62890625\n",
      "Epoch 39, CIFAR-10 Batch 4:  Loss: 0.7698250412940979  Validation Accuracy: 0.642578125\n",
      "Epoch 39, CIFAR-10 Batch 5:  Loss: 0.845963716506958  Validation Accuracy: 0.626953125\n",
      "Epoch 40, CIFAR-10 Batch 1:  Loss: 0.9670310020446777  Validation Accuracy: 0.6328125\n",
      "Epoch 40, CIFAR-10 Batch 2:  Loss: 0.833038866519928  Validation Accuracy: 0.630859375\n",
      "Epoch 40, CIFAR-10 Batch 3:  Loss: 0.7680205702781677  Validation Accuracy: 0.634765625\n",
      "Epoch 40, CIFAR-10 Batch 4:  Loss: 0.7550756335258484  Validation Accuracy: 0.642578125\n",
      "Epoch 40, CIFAR-10 Batch 5:  Loss: 0.8220263123512268  Validation Accuracy: 0.638671875\n",
      "Epoch 41, CIFAR-10 Batch 1:  Loss: 0.9535226821899414  Validation Accuracy: 0.6484375\n",
      "Epoch 41, CIFAR-10 Batch 2:  Loss: 0.8199533224105835  Validation Accuracy: 0.6484375\n",
      "Epoch 41, CIFAR-10 Batch 3:  Loss: 0.7528823614120483  Validation Accuracy: 0.646484375\n",
      "Epoch 41, CIFAR-10 Batch 4:  Loss: 0.7378895282745361  Validation Accuracy: 0.65234375\n",
      "Epoch 41, CIFAR-10 Batch 5:  Loss: 0.8108720183372498  Validation Accuracy: 0.64453125\n",
      "Epoch 42, CIFAR-10 Batch 1:  Loss: 0.9324062466621399  Validation Accuracy: 0.65234375\n",
      "Epoch 42, CIFAR-10 Batch 2:  Loss: 0.8054553270339966  Validation Accuracy: 0.6484375\n",
      "Epoch 42, CIFAR-10 Batch 3:  Loss: 0.7333508133888245  Validation Accuracy: 0.662109375\n",
      "Epoch 42, CIFAR-10 Batch 4:  Loss: 0.7331337332725525  Validation Accuracy: 0.65234375\n",
      "Epoch 42, CIFAR-10 Batch 5:  Loss: 0.7875181436538696  Validation Accuracy: 0.646484375\n",
      "Epoch 43, CIFAR-10 Batch 1:  Loss: 0.92049241065979  Validation Accuracy: 0.65625\n",
      "Epoch 43, CIFAR-10 Batch 2:  Loss: 0.7937900424003601  Validation Accuracy: 0.65625\n",
      "Epoch 43, CIFAR-10 Batch 3:  Loss: 0.7236853241920471  Validation Accuracy: 0.638671875\n",
      "Epoch 43, CIFAR-10 Batch 4:  Loss: 0.723604142665863  Validation Accuracy: 0.6484375\n",
      "Epoch 43, CIFAR-10 Batch 5:  Loss: 0.7714328169822693  Validation Accuracy: 0.6484375\n",
      "Epoch 44, CIFAR-10 Batch 1:  Loss: 0.903398871421814  Validation Accuracy: 0.65234375\n",
      "Epoch 44, CIFAR-10 Batch 2:  Loss: 0.7882729768753052  Validation Accuracy: 0.6484375\n",
      "Epoch 44, CIFAR-10 Batch 3:  Loss: 0.708314061164856  Validation Accuracy: 0.65625\n",
      "Epoch 44, CIFAR-10 Batch 4:  Loss: 0.7088396549224854  Validation Accuracy: 0.65625\n",
      "Epoch 44, CIFAR-10 Batch 5:  Loss: 0.7589049935340881  Validation Accuracy: 0.6484375\n",
      "Epoch 45, CIFAR-10 Batch 1:  Loss: 0.8951219916343689  Validation Accuracy: 0.658203125\n",
      "Epoch 45, CIFAR-10 Batch 2:  Loss: 0.7700845003128052  Validation Accuracy: 0.646484375\n",
      "Epoch 45, CIFAR-10 Batch 3:  Loss: 0.696437418460846  Validation Accuracy: 0.65234375\n",
      "Epoch 45, CIFAR-10 Batch 4:  Loss: 0.7005807161331177  Validation Accuracy: 0.65234375\n",
      "Epoch 45, CIFAR-10 Batch 5:  Loss: 0.7457516193389893  Validation Accuracy: 0.65234375\n",
      "Epoch 46, CIFAR-10 Batch 1:  Loss: 0.8777042031288147  Validation Accuracy: 0.666015625\n",
      "Epoch 46, CIFAR-10 Batch 2:  Loss: 0.756812334060669  Validation Accuracy: 0.66796875\n",
      "Epoch 46, CIFAR-10 Batch 3:  Loss: 0.6811935305595398  Validation Accuracy: 0.6640625\n",
      "Epoch 46, CIFAR-10 Batch 4:  Loss: 0.6860823631286621  Validation Accuracy: 0.65625\n",
      "Epoch 46, CIFAR-10 Batch 5:  Loss: 0.7287790775299072  Validation Accuracy: 0.654296875\n",
      "Epoch 47, CIFAR-10 Batch 1:  Loss: 0.8592934608459473  Validation Accuracy: 0.66015625\n",
      "Epoch 47, CIFAR-10 Batch 2:  Loss: 0.7463537454605103  Validation Accuracy: 0.658203125\n",
      "Epoch 47, CIFAR-10 Batch 3:  Loss: 0.6739805340766907  Validation Accuracy: 0.669921875\n",
      "Epoch 47, CIFAR-10 Batch 4:  Loss: 0.6811561584472656  Validation Accuracy: 0.65625\n",
      "Epoch 47, CIFAR-10 Batch 5:  Loss: 0.7233253717422485  Validation Accuracy: 0.662109375\n",
      "Epoch 48, CIFAR-10 Batch 1:  Loss: 0.8426498174667358  Validation Accuracy: 0.669921875\n",
      "Epoch 48, CIFAR-10 Batch 2:  Loss: 0.7360678911209106  Validation Accuracy: 0.673828125\n",
      "Epoch 48, CIFAR-10 Batch 3:  Loss: 0.6619616150856018  Validation Accuracy: 0.68359375\n",
      "Epoch 48, CIFAR-10 Batch 4:  Loss: 0.66391521692276  Validation Accuracy: 0.6796875\n",
      "Epoch 48, CIFAR-10 Batch 5:  Loss: 0.7057011127471924  Validation Accuracy: 0.6640625\n",
      "Epoch 49, CIFAR-10 Batch 1:  Loss: 0.835828423500061  Validation Accuracy: 0.673828125\n",
      "Epoch 49, CIFAR-10 Batch 2:  Loss: 0.7245268225669861  Validation Accuracy: 0.67578125\n",
      "Epoch 49, CIFAR-10 Batch 3:  Loss: 0.6496801972389221  Validation Accuracy: 0.677734375\n",
      "Epoch 49, CIFAR-10 Batch 4:  Loss: 0.6481669545173645  Validation Accuracy: 0.67578125\n",
      "Epoch 49, CIFAR-10 Batch 5:  Loss: 0.6829853057861328  Validation Accuracy: 0.671875\n",
      "Epoch 50, CIFAR-10 Batch 1:  Loss: 0.8176328539848328  Validation Accuracy: 0.677734375\n",
      "Epoch 50, CIFAR-10 Batch 2:  Loss: 0.7082661390304565  Validation Accuracy: 0.6640625\n",
      "Epoch 50, CIFAR-10 Batch 3:  Loss: 0.6469898223876953  Validation Accuracy: 0.673828125\n",
      "Epoch 50, CIFAR-10 Batch 4:  Loss: 0.6356265544891357  Validation Accuracy: 0.67578125\n",
      "Epoch 50, CIFAR-10 Batch 5:  Loss: 0.6805970668792725  Validation Accuracy: 0.669921875\n"
     ]
    }
   ],
   "source": [
    "\"\"\"\n",
    "DON'T MODIFY ANYTHING IN THIS CELL\n",
    "\"\"\"\n",
    "save_model_path = './image_classification'\n",
    "\n",
    "print('Training...')\n",
    "with tf.Session() as sess:\n",
    "    # Initializing the variables\n",
    "    sess.run(tf.global_variables_initializer())\n",
    "    \n",
    "    # Training cycle\n",
    "    for epoch in range(epochs):\n",
    "        # Loop over all batches\n",
    "        n_batches = 5\n",
    "        for batch_i in range(1, n_batches + 1):\n",
    "            for batch_features, batch_labels in helper.load_preprocess_training_batch(batch_i, batch_size):\n",
    "                train_neural_network(sess, optimizer, keep_probability, batch_features, batch_labels)\n",
    "            print('Epoch {:>2}, CIFAR-10 Batch {}:  '.format(epoch + 1, batch_i), end='')\n",
    "            print_stats(sess, batch_features, batch_labels, cost, accuracy)\n",
    "            \n",
    "    # Save Model\n",
    "    saver = tf.train.Saver()\n",
    "    save_path = saver.save(sess, save_model_path)"
   ]
  },
  {
   "cell_type": "markdown",
   "metadata": {},
   "source": [
    "# Checkpoint\n",
    "The model has been saved to disk.\n",
    "## Test Model\n",
    "Test your model against the test dataset.  This will be your final accuracy. You should have an accuracy greater than 50%. If you don't, keep tweaking the model architecture and parameters."
   ]
  },
  {
   "cell_type": "code",
   "execution_count": 18,
   "metadata": {},
   "outputs": [
    {
     "name": "stdout",
     "output_type": "stream",
     "text": [
      "INFO:tensorflow:Restoring parameters from ./image_classification\n",
      "Testing Accuracy: 0.6643956810235977\n",
      "\n"
     ]
    },
    {
     "data": {
      "image/png": "[encoded data removed]",
      "text/plain": [
       "<matplotlib.figure.Figure at 0x1ba7dfe56a0>"
      ]
     },
     "metadata": {
      "image/png": {
       "height": 319,
       "width": 355
      }
     },
     "output_type": "display_data"
    }
   ],
   "source": [
    "\"\"\"\n",
    "DON'T MODIFY ANYTHING IN THIS CELL\n",
    "\"\"\"\n",
    "%matplotlib inline\n",
    "%config InlineBackend.figure_format = 'retina'\n",
    "\n",
    "import tensorflow as tf\n",
    "import pickle\n",
    "import helper\n",
    "import random\n",
    "\n",
    "# Set batch size if not already set\n",
    "try:\n",
    "    if batch_size:\n",
    "        pass\n",
    "except NameError:\n",
    "    batch_size = 64\n",
    "\n",
    "save_model_path = './image_classification'\n",
    "n_samples = 4\n",
    "top_n_predictions = 3\n",
    "\n",
    "def test_model():\n",
    "    \"\"\"\n",
    "    Test the saved model against the test dataset\n",
    "    \"\"\"\n",
    "\n",
    "    test_features, test_labels = pickle.load(open('preprocess_training.p', mode='rb'))\n",
    "    loaded_graph = tf.Graph()\n",
    "\n",
    "    with tf.Session(graph=loaded_graph) as sess:\n",
    "        # Load model\n",
    "        loader = tf.train.import_meta_graph(save_model_path + '.meta')\n",
    "        loader.restore(sess, save_model_path)\n",
    "\n",
    "        # Get Tensors from loaded model\n",
    "        loaded_x = loaded_graph.get_tensor_by_name('x:0')\n",
    "        loaded_y = loaded_graph.get_tensor_by_name('y:0')\n",
    "        loaded_keep_prob = loaded_graph.get_tensor_by_name('keep_prob:0')\n",
    "        loaded_logits = loaded_graph.get_tensor_by_name('logits:0')\n",
    "        loaded_acc = loaded_graph.get_tensor_by_name('accuracy:0')\n",
    "        \n",
    "        # Get accuracy in batches for memory limitations\n",
    "        test_batch_acc_total = 0\n",
    "        test_batch_count = 0\n",
    "        \n",
    "        for train_feature_batch, train_label_batch in helper.batch_features_labels(test_features, test_labels, batch_size):\n",
    "            test_batch_acc_total += sess.run(\n",
    "                loaded_acc,\n",
    "                feed_dict={loaded_x: train_feature_batch, loaded_y: train_label_batch, loaded_keep_prob: 1.0})\n",
    "            test_batch_count += 1\n",
    "\n",
    "        print('Testing Accuracy: {}\\n'.format(test_batch_acc_total/test_batch_count))\n",
    "\n",
    "        # Print Random Samples\n",
    "        random_test_features, random_test_labels = tuple(zip(*random.sample(list(zip(test_features, test_labels)), n_samples)))\n",
    "        random_test_predictions = sess.run(\n",
    "            tf.nn.top_k(tf.nn.softmax(loaded_logits), top_n_predictions),\n",
    "            feed_dict={loaded_x: random_test_features, loaded_y: random_test_labels, loaded_keep_prob: 1.0})\n",
    "        helper.display_image_predictions(random_test_features, random_test_labels, random_test_predictions)\n",
    "\n",
    "\n",
    "test_model()"
   ]
  },
  {
   "cell_type": "markdown",
   "metadata": {},
   "source": [
    "## Why 50-80% Accuracy?\n",
    "You might be wondering why you can't get an accuracy any higher. First things first, 50% isn't bad for a simple CNN.  Pure guessing would get you 10% accuracy. That's because there are many more techniques that can be applied to your model and we recemmond that once you are done with this project, you explore!\n",
    "\n",
    "## Submitting This Project\n",
    "When submitting this project, make sure to run all the cells before saving the notebook.  Save the notebook file as \"image_classification.ipynb\" and save it as a HTML file under \"File\" -> \"Download as\".  Include the \"helper.py\" and \"problem_unittests.py\" files in your submission."
   ]
  }
 ],
 "metadata": {
  "kernelspec": {
   "display_name": "Python 3",
   "language": "python",
   "name": "python3"
  },
  "language_info": {
   "codemirror_mode": {
    "name": "ipython",
    "version": 3
   },
   "file_extension": ".py",
   "mimetype": "text/x-python",
   "name": "python",
   "nbconvert_exporter": "python",
   "pygments_lexer": "ipython3",
   "version": "3.6.4"
  }
 },
 "nbformat": 4,
 "nbformat_minor": 1
}
